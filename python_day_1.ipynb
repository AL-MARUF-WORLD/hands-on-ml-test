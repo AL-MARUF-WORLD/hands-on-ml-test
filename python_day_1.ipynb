{
  "nbformat": 4,
  "nbformat_minor": 0,
  "metadata": {
    "colab": {
      "provenance": [],
      "authorship_tag": "ABX9TyO2ObbKF5NAVliF8y3Chesd"
    },
    "kernelspec": {
      "name": "python3",
      "display_name": "Python 3"
    },
    "language_info": {
      "name": "python"
    }
  },
  "cells": [
    {
      "cell_type": "markdown",
      "source": [
        "# **Introduction to Python**\n",
        "Let's learn Python together!"
      ],
      "metadata": {
        "id": "aeVImxoxXioZ"
      }
    },
    {
      "cell_type": "code",
      "source": [
        "print('Hello,world')"
      ],
      "metadata": {
        "colab": {
          "base_uri": "https://localhost:8080/"
        },
        "id": "q1O2OLVEXu6A",
        "outputId": "30b899e5-ff9e-45bb-9427-3494c52718cf"
      },
      "execution_count": 1,
      "outputs": [
        {
          "output_type": "stream",
          "name": "stdout",
          "text": [
            "hello world\n"
          ]
        }
      ]
    },
    {
      "cell_type": "markdown",
      "source": [
        "#**Variables**\n",
        "Variables are like boxes which hold values."
      ],
      "metadata": {
        "id": "4gha66pRYqFh"
      }
    },
    {
      "cell_type": "code",
      "source": [
        "a=10\n",
        "b=6\n",
        "print(\"a+b=\",a+b)"
      ],
      "metadata": {
        "colab": {
          "base_uri": "https://localhost:8080/"
        },
        "id": "-Uw_XKmXZAcr",
        "outputId": "5866d761-87f8-4fec-feeb-1eff61305a42"
      },
      "execution_count": 4,
      "outputs": [
        {
          "output_type": "stream",
          "name": "stdout",
          "text": [
            "a+b= 16\n"
          ]
        }
      ]
    },
    {
      "cell_type": "markdown",
      "source": [
        "# **Variable data types**\n",
        "* Integer\n",
        "* Floating point\n",
        "* String\n",
        "* List\n",
        "* Dictionary\n",
        "* Set"
      ],
      "metadata": {
        "id": "hyfTD5lpZ8hg"
      }
    },
    {
      "cell_type": "code",
      "source": [
        "age = 23 # Integer\n",
        "name = 'Shajid' # String\n",
        "cgpa = 3.5 # Floating point\n",
        "graduated = False # Boolean\n",
        "\n",
        "print(age)\n",
        "print(name)\n",
        "print(cgpa)\n",
        "print(graduated)"
      ],
      "metadata": {
        "colab": {
          "base_uri": "https://localhost:8080/"
        },
        "id": "b4U-oQ8VbFQg",
        "outputId": "bfbbfd85-be04-4fa1-eacf-de51f157f807"
      },
      "execution_count": 5,
      "outputs": [
        {
          "output_type": "stream",
          "name": "stdout",
          "text": [
            "23\n",
            "Shajid\n",
            "3.5\n",
            "False\n"
          ]
        }
      ]
    },
    {
      "cell_type": "markdown",
      "source": [
        "# **Arithmetics**\n",
        "* Addition +\n",
        "* Subtraction -\n",
        "* Mulitiplication *\n",
        "* Division /\n",
        "* Modulus %\n",
        "* Integer division //\n",
        "* Exponent **"
      ],
      "metadata": {
        "id": "fbI6pod7base"
      }
    },
    {
      "cell_type": "code",
      "source": [
        "a = 20\n",
        "b = 3\n",
        "\n",
        "addition = a + b\n",
        "subtraction = a - b\n",
        "multiplication = a * b\n",
        "division = a / b\n",
        "integer_division = a // b\n",
        "modulus = a % b\n",
        "exponent = a ** b # a^b = 10^3\n",
        "\n",
        "print(\"Addition:\", addition)\n",
        "print(\"Subtraction:\", subtraction)\n",
        "print(\"Multiplication:\", multiplication)\n",
        "print(\"Division:\", division)\n",
        "print(\"Integer division:\", integer_division)\n",
        "print(\"Modulus/Remainder:\", modulus)\n",
        "print(\"Exponent:\", exponent)"
      ],
      "metadata": {
        "colab": {
          "base_uri": "https://localhost:8080/"
        },
        "id": "kxuT9VUIbsB0",
        "outputId": "7dc6a6b4-5067-4501-c26c-7e58bedcd88d"
      },
      "execution_count": 6,
      "outputs": [
        {
          "output_type": "stream",
          "name": "stdout",
          "text": [
            "Addition: 23\n",
            "Subtraction: 17\n",
            "Multiplication: 60\n",
            "Division: 6.666666666666667\n",
            "Integer division: 6\n",
            "Modulus/Remainder: 2\n",
            "Exponent: 8000\n"
          ]
        }
      ]
    },
    {
      "cell_type": "markdown",
      "source": [
        "# **Some string operations**"
      ],
      "metadata": {
        "id": "sO--EgKZb3K8"
      }
    },
    {
      "cell_type": "code",
      "source": [
        "first_name=\"AL\"\n",
        "last_name=\"Maruf\"\n",
        "full= first_name + \" \" + last_name\n",
        "print(full)\n",
        "print(full*6)\n",
        "print((full+ '\\n')*5)"
      ],
      "metadata": {
        "colab": {
          "base_uri": "https://localhost:8080/"
        },
        "id": "iWcEdmoHb7Mr",
        "outputId": "3c01d1b7-f9a7-4839-d912-ae9e720124fa"
      },
      "execution_count": 17,
      "outputs": [
        {
          "output_type": "stream",
          "name": "stdout",
          "text": [
            "AL Maruf\n",
            "AL MarufAL MarufAL MarufAL MarufAL MarufAL Maruf\n",
            "AL Maruf\n",
            "AL Maruf\n",
            "AL Maruf\n",
            "AL Maruf\n",
            "AL Maruf\n",
            "\n"
          ]
        }
      ]
    },
    {
      "cell_type": "markdown",
      "source": [
        "# **Boolean example**"
      ],
      "metadata": {
        "id": "wRGa3JDCeX3B"
      }
    },
    {
      "cell_type": "code",
      "source": [
        "test= a>b\n",
        "print(test)"
      ],
      "metadata": {
        "colab": {
          "base_uri": "https://localhost:8080/"
        },
        "id": "zlykKGHzebuK",
        "outputId": "4b60f743-8373-4fd7-a61f-4b261d175630"
      },
      "execution_count": 18,
      "outputs": [
        {
          "output_type": "stream",
          "name": "stdout",
          "text": [
            "True\n"
          ]
        }
      ]
    },
    {
      "cell_type": "markdown",
      "source": [
        "# **Output formatting**\n",
        "There are many ways to format strings in Python, but using f-strings is the easiest!"
      ],
      "metadata": {
        "id": "3ZgSOBPUe9bW"
      }
    },
    {
      "cell_type": "code",
      "source": [
        "print(f\"My name is {full}\")\n",
        "print(f\"My age is {age}\")\n",
        "print(f\"My cgpa is {cgpa}\")"
      ],
      "metadata": {
        "colab": {
          "base_uri": "https://localhost:8080/"
        },
        "id": "BqJyI_TifNN1",
        "outputId": "694b837d-d4e1-40c2-9b96-268d3c884711"
      },
      "execution_count": 21,
      "outputs": [
        {
          "output_type": "stream",
          "name": "stdout",
          "text": [
            "My name is AL Maruf\n",
            "My age is 23\n",
            "My cgpa is 3.5\n"
          ]
        }
      ]
    },
    {
      "cell_type": "markdown",
      "source": [
        "# **A basic function**\n",
        "If you have a task you need to do multiple times, you can write it once as a function and use it anywhere!"
      ],
      "metadata": {
        "id": "0kXrK7x8f7Gk"
      }
    },
    {
      "cell_type": "code",
      "source": [
        "def say_hello(name,age):\n",
        " print(f\"Hello {name}. Your age is {age} \")\n",
        "\n",
        "say_hello(\"AL Maruf\",19)\n",
        "say_hello(\"Cardium\",18)"
      ],
      "metadata": {
        "colab": {
          "base_uri": "https://localhost:8080/"
        },
        "id": "CnbodxoPgSwB",
        "outputId": "dd160559-fb63-4230-f147-23e772c00d63"
      },
      "execution_count": 26,
      "outputs": [
        {
          "output_type": "stream",
          "name": "stdout",
          "text": [
            "Hello AL Maruf. Your age is 19 \n",
            "Hello Cardium. Your age is 18 \n"
          ]
        }
      ]
    }
  ]
}