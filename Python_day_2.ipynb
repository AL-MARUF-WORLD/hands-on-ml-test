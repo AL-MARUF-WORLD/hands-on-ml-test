{
  "nbformat": 4,
  "nbformat_minor": 0,
  "metadata": {
    "colab": {
      "provenance": [],
      "authorship_tag": "ABX9TyOlNF6xbGCzKL0P8XzK49/A",
      "include_colab_link": true
    },
    "kernelspec": {
      "name": "python3",
      "display_name": "Python 3"
    },
    "language_info": {
      "name": "python"
    }
  },
  "cells": [
    {
      "cell_type": "markdown",
      "metadata": {
        "id": "view-in-github",
        "colab_type": "text"
      },
      "source": [
        "<a href=\"https://colab.research.google.com/github/AL-MARUF-WORLD/hands-on-ml-test/blob/main/Python_day_2.ipynb\" target=\"_parent\"><img src=\"https://colab.research.google.com/assets/colab-badge.svg\" alt=\"Open In Colab\"/></a>"
      ]
    },
    {
      "cell_type": "markdown",
      "source": [
        "# **String Operation**"
      ],
      "metadata": {
        "id": "f3rxuK3hQy6U"
      }
    },
    {
      "cell_type": "code",
      "source": [
        "str1=\"Amar\"\n",
        "str2=\"num\"\n",
        "str3=\"Maruf\"\n",
        "sen= str1 +' '+ str2 + ' '+ str3\n",
        "print(sen)"
      ],
      "metadata": {
        "colab": {
          "base_uri": "https://localhost:8080/"
        },
        "id": "lHx4cqOKRKMI",
        "outputId": "08cb00f7-1b74-4678-8120-55335baa3e97"
      },
      "execution_count": 2,
      "outputs": [
        {
          "output_type": "stream",
          "name": "stdout",
          "text": [
            "Amar num Maruf\n"
          ]
        }
      ]
    },
    {
      "cell_type": "code",
      "source": [
        "hasi='hi'\n",
        "hasi=hasi*3\n",
        "print(hasi)"
      ],
      "metadata": {
        "colab": {
          "base_uri": "https://localhost:8080/"
        },
        "id": "lt5_pC15R--v",
        "outputId": "8cc5bc95-ab25-42b2-a7d3-0ea1d5a1a822"
      },
      "execution_count": 3,
      "outputs": [
        {
          "output_type": "stream",
          "name": "stdout",
          "text": [
            "hihihi\n"
          ]
        }
      ]
    },
    {
      "cell_type": "markdown",
      "source": [
        "# **Indexing and accessing**"
      ],
      "metadata": {
        "id": "nQ1LQ6QsSmO0"
      }
    },
    {
      "cell_type": "code",
      "source": [
        "str4=\"amar num maruf\"\n",
        "str4[5]\n",
        "str4[4]"
      ],
      "metadata": {
        "colab": {
          "base_uri": "https://localhost:8080/",
          "height": 35
        },
        "id": "SM_zQ9r2StU3",
        "outputId": "4ca3aea3-9138-45c0-f5e0-8f39ed868e7a"
      },
      "execution_count": 9,
      "outputs": [
        {
          "output_type": "execute_result",
          "data": {
            "text/plain": [
              "' '"
            ],
            "application/vnd.google.colaboratory.intrinsic+json": {
              "type": "string"
            }
          },
          "metadata": {},
          "execution_count": 9
        }
      ]
    },
    {
      "cell_type": "code",
      "source": [
        "str4[-3]"
      ],
      "metadata": {
        "colab": {
          "base_uri": "https://localhost:8080/",
          "height": 35
        },
        "id": "DMP11wP_TjWE",
        "outputId": "e750909a-5ff4-4874-ac10-416507fcda5a"
      },
      "execution_count": 11,
      "outputs": [
        {
          "output_type": "execute_result",
          "data": {
            "text/plain": [
              "'r'"
            ],
            "application/vnd.google.colaboratory.intrinsic+json": {
              "type": "string"
            }
          },
          "metadata": {},
          "execution_count": 11
        }
      ]
    },
    {
      "cell_type": "code",
      "source": [
        "str4[0:8]"
      ],
      "metadata": {
        "colab": {
          "base_uri": "https://localhost:8080/",
          "height": 35
        },
        "id": "6wqupuKOTWpK",
        "outputId": "958fc4ad-7947-4365-df8b-84837aa2f8df"
      },
      "execution_count": 10,
      "outputs": [
        {
          "output_type": "execute_result",
          "data": {
            "text/plain": [
              "'amar num'"
            ],
            "application/vnd.google.colaboratory.intrinsic+json": {
              "type": "string"
            }
          },
          "metadata": {},
          "execution_count": 10
        }
      ]
    },
    {
      "cell_type": "code",
      "source": [
        "str4[1:]"
      ],
      "metadata": {
        "colab": {
          "base_uri": "https://localhost:8080/",
          "height": 35
        },
        "id": "fk5JhuOkTuYx",
        "outputId": "d1abcb59-a5ea-468d-d8f0-148963677eb4"
      },
      "execution_count": 12,
      "outputs": [
        {
          "output_type": "execute_result",
          "data": {
            "text/plain": [
              "'mar num maruf'"
            ],
            "application/vnd.google.colaboratory.intrinsic+json": {
              "type": "string"
            }
          },
          "metadata": {},
          "execution_count": 12
        }
      ]
    },
    {
      "cell_type": "code",
      "source": [
        "str4[::2]"
      ],
      "metadata": {
        "colab": {
          "base_uri": "https://localhost:8080/",
          "height": 35
        },
        "id": "HqBUsqFeUBwJ",
        "outputId": "b8ea2afe-3496-4f46-8361-e94635cc5800"
      },
      "execution_count": 13,
      "outputs": [
        {
          "output_type": "execute_result",
          "data": {
            "text/plain": [
              "'aa u au'"
            ],
            "application/vnd.google.colaboratory.intrinsic+json": {
              "type": "string"
            }
          },
          "metadata": {},
          "execution_count": 13
        }
      ]
    },
    {
      "cell_type": "code",
      "source": [
        "str4[1::2]"
      ],
      "metadata": {
        "colab": {
          "base_uri": "https://localhost:8080/",
          "height": 35
        },
        "id": "SL54Tc6wUQnK",
        "outputId": "19bdd3ba-8097-496b-ea5b-15c6372b8265"
      },
      "execution_count": 14,
      "outputs": [
        {
          "output_type": "execute_result",
          "data": {
            "text/plain": [
              "'mrnmmrf'"
            ],
            "application/vnd.google.colaboratory.intrinsic+json": {
              "type": "string"
            }
          },
          "metadata": {},
          "execution_count": 14
        }
      ]
    },
    {
      "cell_type": "markdown",
      "source": [
        "# **Converting**"
      ],
      "metadata": {
        "id": "n0-ppT0SUpnu"
      }
    },
    {
      "cell_type": "code",
      "source": [
        "str1='Pure Substence'\n",
        "print(str1.upper())\n",
        "print(str1.lower())"
      ],
      "metadata": {
        "colab": {
          "base_uri": "https://localhost:8080/"
        },
        "id": "YJzJIfwMUpRT",
        "outputId": "f8668024-7dab-4f34-db69-db78a175859d"
      },
      "execution_count": 17,
      "outputs": [
        {
          "output_type": "stream",
          "name": "stdout",
          "text": [
            "PURE SUBSTENCE\n",
            "pure substence\n"
          ]
        }
      ]
    },
    {
      "cell_type": "markdown",
      "source": [
        "# **Replaicing**\n"
      ],
      "metadata": {
        "id": "whZ1BqV7VgJn"
      }
    },
    {
      "cell_type": "code",
      "source": [
        "str2='i love you'\n",
        "str3=str2.replace(\"love\",'hate')\n",
        "print(str2)\n",
        "print(str3)"
      ],
      "metadata": {
        "colab": {
          "base_uri": "https://localhost:8080/"
        },
        "id": "-hgk5fKEVmvZ",
        "outputId": "1b812a40-dbe2-4979-8afb-867dee57b5ad"
      },
      "execution_count": 18,
      "outputs": [
        {
          "output_type": "stream",
          "name": "stdout",
          "text": [
            "i love you\n",
            "i hate you\n"
          ]
        }
      ]
    },
    {
      "cell_type": "markdown",
      "source": [
        "#**mojar jinish**"
      ],
      "metadata": {
        "id": "gyqJqKS2Wj-u"
      }
    },
    {
      "cell_type": "code",
      "source": [
        "dep='Mechanical Engeeniering'\n",
        "char='e'\n",
        "e_ase=dep.count(char)\n",
        "print(f\"{char} ase {e_ase}\")"
      ],
      "metadata": {
        "colab": {
          "base_uri": "https://localhost:8080/"
        },
        "id": "5JCYlbNyW7ow",
        "outputId": "4cfe27b5-e63c-4e0c-c819-12cfdb1600b8"
      },
      "execution_count": 26,
      "outputs": [
        {
          "output_type": "stream",
          "name": "stdout",
          "text": [
            "e ase 4\n"
          ]
        }
      ]
    },
    {
      "cell_type": "markdown",
      "source": [
        "Take an input and calcule number a"
      ],
      "metadata": {
        "id": "Cma52gpcYYz5"
      }
    },
    {
      "cell_type": "code",
      "source": [
        "name=input('Write anything in small latter')\n",
        "char='a'\n",
        "count=name.count(char)\n",
        "print(f\"There are {count} {char} in this sentence\")"
      ],
      "metadata": {
        "colab": {
          "base_uri": "https://localhost:8080/"
        },
        "id": "VLSw8tNKYYUL",
        "outputId": "cd75d597-befa-4572-f067-2be9c76be3b8"
      },
      "execution_count": 27,
      "outputs": [
        {
          "output_type": "stream",
          "name": "stdout",
          "text": [
            "Write anything in small lattermy name is maruf\n",
            "There are 2 a in this sentence\n"
          ]
        }
      ]
    },
    {
      "cell_type": "markdown",
      "source": [
        "**list hocche ekta collection. collection of data (data type)**\n",
        "* Ordered\n",
        "* mutable:modify kora jai\n",
        "* indexing"
      ],
      "metadata": {
        "id": "J1OYhkaIaQgA"
      }
    },
    {
      "cell_type": "code",
      "source": [
        "fruits=['apple','banana','guaba']\n",
        "fruits[1]='Water malon'\n",
        "print(fruits)\n",
        "print(fruits[1])\n",
        "print(fruits[1:])\n",
        "fruits[2:]=['mango','pineapple']\n",
        "print(fruits)"
      ],
      "metadata": {
        "colab": {
          "base_uri": "https://localhost:8080/"
        },
        "id": "XHDncBuSa5IH",
        "outputId": "fddfd061-32ce-4640-c7b2-ac6e36177bf6"
      },
      "execution_count": 39,
      "outputs": [
        {
          "output_type": "stream",
          "name": "stdout",
          "text": [
            "['apple', 'Water malon', 'guaba']\n",
            "Water malon\n",
            "['Water malon', 'guaba']\n",
            "['apple', 'Water malon', 'mango', 'pineapple']\n"
          ]
        }
      ]
    },
    {
      "cell_type": "code",
      "source": [
        "number = [1,2,3,4,5]\n",
        "number[3]"
      ],
      "metadata": {
        "colab": {
          "base_uri": "https://localhost:8080/"
        },
        "id": "dDZehL7gbycl",
        "outputId": "229f9bf3-c874-4e83-e412-3f6a7de0d6d1"
      },
      "execution_count": 40,
      "outputs": [
        {
          "output_type": "execute_result",
          "data": {
            "text/plain": [
              "4"
            ]
          },
          "metadata": {},
          "execution_count": 40
        }
      ]
    },
    {
      "cell_type": "markdown",
      "source": [
        "* Apending--add element in list at the end of the line"
      ],
      "metadata": {
        "id": "8JvoYO_vc712"
      }
    },
    {
      "cell_type": "code",
      "source": [
        "number = [1,2,3,4,5]\n",
        "number.append(5) #only add one element\n",
        "print(number)"
      ],
      "metadata": {
        "colab": {
          "base_uri": "https://localhost:8080/"
        },
        "id": "cRUwIbhldd4m",
        "outputId": "c3b26305-ac59-4419-a0e6-0d28533d869a"
      },
      "execution_count": 44,
      "outputs": [
        {
          "output_type": "stream",
          "name": "stdout",
          "text": [
            "[1, 2, 3, 4, 5, 5]\n"
          ]
        }
      ]
    },
    {
      "cell_type": "code",
      "source": [
        "number = [1,2,3,4,5]\n",
        "number.append(5)\n",
        "number.append(7)\n",
        "number.append(56)\n",
        "print(number)"
      ],
      "metadata": {
        "colab": {
          "base_uri": "https://localhost:8080/"
        },
        "id": "ogtr9e9VeIhO",
        "outputId": "31936926-c07a-46cf-9237-3063966b630c"
      },
      "execution_count": 45,
      "outputs": [
        {
          "output_type": "stream",
          "name": "stdout",
          "text": [
            "[1, 2, 3, 4, 5, 5, 7, 56]\n"
          ]
        }
      ]
    },
    {
      "cell_type": "markdown",
      "source": [
        "**slicing of list**"
      ],
      "metadata": {
        "id": "cIH1twJneoSh"
      }
    },
    {
      "cell_type": "code",
      "source": [
        "number[1:5]"
      ],
      "metadata": {
        "colab": {
          "base_uri": "https://localhost:8080/"
        },
        "id": "MEMDFt9red7K",
        "outputId": "d24c699f-bfde-4d46-b1be-2c86c1e68937"
      },
      "execution_count": 47,
      "outputs": [
        {
          "output_type": "execute_result",
          "data": {
            "text/plain": [
              "[2, 3, 4, 5]"
            ]
          },
          "metadata": {},
          "execution_count": 47
        }
      ]
    },
    {
      "cell_type": "code",
      "source": [
        "number[1::2]"
      ],
      "metadata": {
        "colab": {
          "base_uri": "https://localhost:8080/"
        },
        "id": "53OxjBAeelgp",
        "outputId": "83eb32cb-2dc6-41e4-a524-2babf5da843c"
      },
      "execution_count": 48,
      "outputs": [
        {
          "output_type": "execute_result",
          "data": {
            "text/plain": [
              "[2, 4, 5, 56]"
            ]
          },
          "metadata": {},
          "execution_count": 48
        }
      ]
    },
    {
      "cell_type": "markdown",
      "source": [
        "**Reverse the list**"
      ],
      "metadata": {
        "id": "06GZxE0WfGiW"
      }
    },
    {
      "cell_type": "code",
      "source": [
        "number[::-1]"
      ],
      "metadata": {
        "colab": {
          "base_uri": "https://localhost:8080/"
        },
        "id": "WbydBu-Qfc-s",
        "outputId": "0d86ffd7-0690-48bd-efe6-ba731fea5c5e"
      },
      "execution_count": 52,
      "outputs": [
        {
          "output_type": "execute_result",
          "data": {
            "text/plain": [
              "[56, 7, 5, 5, 4, 3, 2, 1]"
            ]
          },
          "metadata": {},
          "execution_count": 52
        }
      ]
    },
    {
      "cell_type": "markdown",
      "source": [
        "Find max and min"
      ],
      "metadata": {
        "id": "ASPF5jNqgRV9"
      }
    },
    {
      "cell_type": "code",
      "source": [
        "print(max(number))\n",
        "print(min(number))"
      ],
      "metadata": {
        "colab": {
          "base_uri": "https://localhost:8080/"
        },
        "id": "KNxMLI6fgQ95",
        "outputId": "6fd0984a-205d-4466-f043-a7c05baecdfa"
      },
      "execution_count": 53,
      "outputs": [
        {
          "output_type": "stream",
          "name": "stdout",
          "text": [
            "56\n",
            "1\n"
          ]
        }
      ]
    },
    {
      "cell_type": "markdown",
      "source": [
        "** Dictionary**\n",
        "\n",
        "* ordered/unordered\n",
        "\n",
        "* mutable (value ke)\n",
        "\n",
        "* keys immutable\n",
        "\n",
        "'a': a mane omuk"
      ],
      "metadata": {
        "id": "1nn59kEHg4kY"
      }
    },
    {
      "cell_type": "code",
      "source": [
        "student={\"name\":\"Maruf\",\"age\":20,\"CGPA\":4.00}\n",
        "print(student)\n",
        "print(student[\"name\"])"
      ],
      "metadata": {
        "colab": {
          "base_uri": "https://localhost:8080/"
        },
        "id": "s-n6iojcg_pe",
        "outputId": "1acd7dab-c670-4656-b461-c65155d76e8f"
      },
      "execution_count": 55,
      "outputs": [
        {
          "output_type": "stream",
          "name": "stdout",
          "text": [
            "{'name': 'Maruf', 'age': 20, 'CGPA': 4.0}\n",
            "Maruf\n"
          ]
        }
      ]
    },
    {
      "cell_type": "markdown",
      "source": [
        "Add"
      ],
      "metadata": {
        "id": "KgrQxA0NiIQL"
      }
    },
    {
      "cell_type": "code",
      "source": [
        "student[\"university\"]=\"CUET\"\n",
        "print(student)"
      ],
      "metadata": {
        "colab": {
          "base_uri": "https://localhost:8080/"
        },
        "id": "Y2zi5znViKbN",
        "outputId": "ae6b713a-926e-44cd-e588-515fd093231c"
      },
      "execution_count": 59,
      "outputs": [
        {
          "output_type": "stream",
          "name": "stdout",
          "text": [
            "{'name': 'Maruf', 'age': 20, 'CGPA': 4.0, 'university': 'CUET'}\n"
          ]
        }
      ]
    },
    {
      "cell_type": "markdown",
      "source": [
        "Edit"
      ],
      "metadata": {
        "id": "9JHdG8ScilFe"
      }
    },
    {
      "cell_type": "code",
      "source": [
        "student[\"name\"]=\"AL Maruf\"\n",
        "print(student)"
      ],
      "metadata": {
        "colab": {
          "base_uri": "https://localhost:8080/"
        },
        "id": "qYrXKWzyikgi",
        "outputId": "2cbc4128-2c8c-4bdd-8324-9116d2703f00"
      },
      "execution_count": 60,
      "outputs": [
        {
          "output_type": "stream",
          "name": "stdout",
          "text": [
            "{'name': 'AL Maruf', 'age': 20, 'CGPA': 4.0, 'university': 'CUET'}\n"
          ]
        }
      ]
    },
    {
      "cell_type": "markdown",
      "source": [
        "Remove"
      ],
      "metadata": {
        "id": "d8hMOgyei2YD"
      }
    },
    {
      "cell_type": "code",
      "source": [
        "student.pop(\"CGPA\")\n",
        "print(student)"
      ],
      "metadata": {
        "colab": {
          "base_uri": "https://localhost:8080/"
        },
        "id": "-ZiRwOgdi6-9",
        "outputId": "8fc8e84f-5acd-4b2f-d17a-5c81d4e87b87"
      },
      "execution_count": 61,
      "outputs": [
        {
          "output_type": "stream",
          "name": "stdout",
          "text": [
            "{'name': 'AL Maruf', 'age': 20, 'university': 'CUET'}\n"
          ]
        }
      ]
    },
    {
      "cell_type": "markdown",
      "source": [
        "**Merge dictionary**"
      ],
      "metadata": {
        "id": "nnZCllWdjVI1"
      }
    },
    {
      "cell_type": "code",
      "source": [
        "student1={\"name\":\"Maruf\",\"age\":21,\"home\":\"brahmanbaria\",\"CGPA\":\"4.00\"}\n",
        "student2={\"name\":\"ABM MAruf\",\"age\":25,\"home\":\"Brahmanbaria\"}\n",
        "students={**student1, **student2}\n",
        "print(students)"
      ],
      "metadata": {
        "colab": {
          "base_uri": "https://localhost:8080/"
        },
        "id": "ckEHkfP4jaqj",
        "outputId": "9e561dc5-751b-40e6-8db8-10b0b7c08b65"
      },
      "execution_count": 68,
      "outputs": [
        {
          "output_type": "stream",
          "name": "stdout",
          "text": [
            "{'name': 'ABM MAruf', 'age': 25, 'home': 'Brahmanbaria', 'CGPA': '4.00'}\n"
          ]
        }
      ]
    },
    {
      "cell_type": "markdown",
      "source": [
        "**Conditional**"
      ],
      "metadata": {
        "id": "CT9WU4-UlW0w"
      }
    },
    {
      "cell_type": "code",
      "source": [
        "a=678\n",
        "if  a>5:\n",
        " print(\"a is greater then 5\")\n",
        ""
      ],
      "metadata": {
        "colab": {
          "base_uri": "https://localhost:8080/"
        },
        "id": "cm5jCIRLlYyb",
        "outputId": "14bb6437-5d7d-452c-cee9-5bad04314f66"
      },
      "execution_count": 71,
      "outputs": [
        {
          "output_type": "stream",
          "name": "stdout",
          "text": [
            "a is greater then 5\n"
          ]
        }
      ]
    },
    {
      "cell_type": "markdown",
      "source": [
        "**Even or odd**"
      ],
      "metadata": {
        "id": "2QmCLvZVmL1d"
      }
    },
    {
      "cell_type": "code",
      "source": [
        "num=int(input(\"Enter a number\"))\n",
        "if num%2==0:\n",
        "  print(\"the number is even\")\n",
        "else:\n",
        "    print(\"the number is odd\")"
      ],
      "metadata": {
        "colab": {
          "base_uri": "https://localhost:8080/"
        },
        "id": "SAn6OmPymR-H",
        "outputId": "62207154-7adf-42e6-f8ed-1771658af478"
      },
      "execution_count": 73,
      "outputs": [
        {
          "output_type": "stream",
          "name": "stdout",
          "text": [
            "Enter a number76\n",
            "the number is even\n"
          ]
        }
      ]
    },
    {
      "cell_type": "markdown",
      "source": [
        "#student gradesheet"
      ],
      "metadata": {
        "id": "KU8_0m7dnP4x"
      }
    },
    {
      "cell_type": "code",
      "source": [
        "while True:\n",
        "    try:\n",
        "        num = int(input(\"Enter your mark (0-100): \")) # Fixed indentation\n",
        "        if 0 <= num <= 100:\n",
        "            break  # Exit the loop if input is valid\n",
        "        else:\n",
        "            print(\"Invalid mark. Please enter a number between 0 and 100.\")\n",
        "    except ValueError:\n",
        "        print(\"Invalid input. Please enter a valid integer.\")\n",
        "if num>=80 and num<=100:\n",
        "  print(\"A+\")\n",
        "elif num>=70 and num<80:\n",
        "  print(\"A\")\n",
        "elif num>=60 and num<70:\n",
        "  print(\"A-\")\n",
        "elif num>=50 and num<60:\n",
        "  print(\"B\")\n",
        "elif num>=40 and num<50:\n",
        "  print(\"C\")\n",
        "elif num>=33 and  num<40:\n",
        "  print(\"d\")\n",
        "elif num<33 and num>=0:\n",
        "  print(\"F\")"
      ],
      "metadata": {
        "colab": {
          "base_uri": "https://localhost:8080/"
        },
        "id": "KMFkqXuanSlU",
        "outputId": "e0adbc6a-9fbc-41a3-d917-787e3e911250"
      },
      "execution_count": 107,
      "outputs": [
        {
          "output_type": "stream",
          "name": "stdout",
          "text": [
            "Enter your mark (0-100): ds\n",
            "Invalid input. Please enter a valid integer.\n",
            "Enter your mark (0-100): 32\n",
            "F\n"
          ]
        }
      ]
    },
    {
      "cell_type": "code",
      "source": [
        "#party te jabo ki na\n",
        "age = int(input())\n",
        "\n",
        "party = \"jaite parba\" if age >=18 else \"jaite parba na\"\n",
        "\n",
        "print(party)"
      ],
      "metadata": {
        "id": "Cz8oBr-Uu8hw"
      },
      "execution_count": null,
      "outputs": []
    }
  ]
}